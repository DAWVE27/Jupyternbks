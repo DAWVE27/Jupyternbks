{
 "cells": [
  {
   "cell_type": "markdown",
   "id": "c7ceade9-1443-4799-b2d0-75e0c21b9555",
   "metadata": {},
   "source": [
    "Data Science Tools and Ecosystem\n",
    "================================"
   ]
  },
  {
   "cell_type": "markdown",
   "id": "716f32dd-c1f5-432a-b641-4b61d00cfa98",
   "metadata": {},
   "source": [
    "In this notebook, Data Science Tools and Ecosystem are summarized."
   ]
  },
  {
   "cell_type": "markdown",
   "id": "41442074-ce50-4c2d-834e-95bf9205dc4f",
   "metadata": {},
   "source": [
    "**Objectives:**\n",
    "* To understand different data analyst tools\n",
    "* To understand various benefits tools\n",
    "* Brief introduction to tools"
   ]
  },
  {
   "cell_type": "markdown",
   "id": "a18b5c89-fd67-46fc-8ac7-3c551d7205fe",
   "metadata": {},
   "source": [
    "Some of the popular languages that Data Scientists use are:\n",
    "1.R\n",
    "2.Java\n",
    "3.Python\n",
    "4.SQL"
   ]
  },
  {
   "cell_type": "markdown",
   "id": "d4292a33-3ef8-40eb-b162-67a76461fb7d",
   "metadata": {},
   "source": [
    "Some of the commonly used libraries used by Data Scientists include:\n",
    "1.Pandas\n",
    "2.NumPy\n",
    "3.Scikit\n",
    "4.TensorFlow"
   ]
  },
  {
   "cell_type": "markdown",
   "id": "a10cb228-2de3-4562-a70c-bf074a1c9c88",
   "metadata": {
    "tags": []
   },
   "source": [
    "|Data Science Tools|\n",
    "|-----------------|\n",
    "|Anacondas|\n",
    "|Jupyter Notebook|\n",
    "|VS code|\n",
    "|JupyterLite|"
   ]
  },
  {
   "cell_type": "markdown",
   "id": "b27b8dcd-1a87-42b5-8282-a88bdb961209",
   "metadata": {},
   "source": [
    "Below are a few examples of evaluating arithmetic expressions in Python\n",
    "-----------------------------------------------------------------------"
   ]
  },
  {
   "cell_type": "code",
   "execution_count": 2,
   "id": "fe111cf8-af84-4f24-aba2-01be65356214",
   "metadata": {
    "tags": []
   },
   "outputs": [
    {
     "name": "stdout",
     "output_type": "stream",
     "text": [
      "17\n"
     ]
    }
   ],
   "source": [
    "# This a simple arithmetic expression to mutiply then add integers#\n",
    "print((3*4)+5)"
   ]
  },
  {
   "cell_type": "code",
   "execution_count": 3,
   "id": "67bd2ec6-f7dd-413d-a30d-3469292970c6",
   "metadata": {
    "tags": []
   },
   "outputs": [
    {
     "name": "stdout",
     "output_type": "stream",
     "text": [
      "3.3333333333333335\n"
     ]
    }
   ],
   "source": [
    "# This will convert 200 minutes to hours by diving by 60 #\n",
    "print(200/60)"
   ]
  },
  {
   "cell_type": "markdown",
   "id": "445c6080-ced7-4d25-a59d-4477a5b5d093",
   "metadata": {},
   "source": [
    "Author\n",
    "-----\n",
    "DAVID"
   ]
  }
 ],
 "metadata": {
  "kernelspec": {
   "display_name": "Python",
   "language": "python",
   "name": "conda-env-python-py"
  },
  "language_info": {
   "codemirror_mode": {
    "name": "ipython",
    "version": 3
   },
   "file_extension": ".py",
   "mimetype": "text/x-python",
   "name": "python",
   "nbconvert_exporter": "python",
   "pygments_lexer": "ipython3",
   "version": "3.7.12"
  }
 },
 "nbformat": 4,
 "nbformat_minor": 5
}
